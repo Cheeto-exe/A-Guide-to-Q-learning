{
 "cells": [
  {
   "cell_type": "code",
   "execution_count": null,
   "metadata": {},
   "outputs": [],
   "source": [
    "import numpy as np"
   ]
  },
  {
   "cell_type": "code",
   "execution_count": null,
   "metadata": {},
   "outputs": [],
   "source": [
    "# increase the font size in all matplotlib plots\n",
    "plt.rcParams.update({'font.size': 18})\n",
    "\n",
    "# increase the title font size in all matplotlib plots\n",
    "plt.rcParams.update({'axes.titlesize':22})\n"
   ]
  },
  {
   "cell_type": "code",
   "execution_count": null,
   "metadata": {},
   "outputs": [],
   "source": [
    "# grid search for the learning rate\n",
    "gridsearch_DQN = {}\n",
    "\n",
    "for LR in 10**np.arange(-6, -1, dtype=float):\n",
    "    print(LR)\n",
    "    gridsearch_DQN[LR] = {}\n",
    "    gridsearch_DQN[LR]['episode_durations'] = []\n",
    "    gridsearch_DQN[LR]['averages'] = []\n",
    "    for i in range(5):\n",
    "        %run CartPoleDQN.ipynb\n",
    "        gridsearch_DQN[LR]['episode_durations'].append(durations_t)\n",
    "        gridsearch_DQN[LR]['averages'].append(means)"
   ]
  },
  {
   "cell_type": "code",
   "execution_count": null,
   "metadata": {},
   "outputs": [],
   "source": [
    "# convert tensors to lists\n",
    "gridsearch_DQN_as_lists = {}\n",
    "\n",
    "for LR in gridsearch_DQN.keys():\n",
    "\n",
    "    gridsearch_DQN_as_lists[LR] = {}\n",
    "    gridsearch_DQN_as_lists[LR]['episode_durations'] = []\n",
    "    gridsearch_DQN_as_lists[LR]['averages'] = []\n",
    "    for i in range(5):\n",
    "        gridsearch_DQN_as_lists[LR]['episode_durations'].append(gridsearch_DQN[LR]['episode_durations'][i].tolist())\n",
    "        gridsearch_DQN_as_lists[LR]['averages'].append(gridsearch_DQN[LR]['averages'][i].tolist())"
   ]
  },
  {
   "cell_type": "code",
   "execution_count": null,
   "metadata": {},
   "outputs": [],
   "source": [
    "# save to json\n",
    "import json\n",
    "with open('gridsearch_DQN.json', 'w') as fp:\n",
    "    json.dump(gridsearch_DQN_as_lists, fp)"
   ]
  },
  {
   "cell_type": "code",
   "execution_count": null,
   "metadata": {},
   "outputs": [],
   "source": [
    "x = np.arange(5)\n",
    "y_1 = [gridsearch_DQN_as_lists[LR]['averages'][0][-1] for LR in gridsearch_DQN_as_lists.keys()]\n",
    "y_2 = [gridsearch_DQN_as_lists[LR]['averages'][1][-1] for LR in gridsearch_DQN_as_lists.keys()]\n",
    "y_3 = [gridsearch_DQN_as_lists[LR]['averages'][2][-1] for LR in gridsearch_DQN_as_lists.keys()]\n",
    "y_4 = [gridsearch_DQN_as_lists[LR]['averages'][3][-1] for LR in gridsearch_DQN_as_lists.keys()]\n",
    "y_5 = [gridsearch_DQN_as_lists[LR]['averages'][4][-1] for LR in gridsearch_DQN_as_lists.keys()]\n",
    "\n",
    "width = 0.15\n",
    "\n",
    "fig, ax = plt.subplots(figsize=(15, 8))\n",
    "ax.bar(x - 2*width, y_1, width, label='Run 1', color='cornflowerblue') \n",
    "ax.bar(x - width, y_2, width, label='Run 2', color='gold')\n",
    "ax.bar(x, y_3, width, label='Run 3', color ='seagreen')\n",
    "ax.bar(x + width, y_4, width, label='Run 4', color='coral')\n",
    "ax.bar(x + 2*width, y_5, width, label='Run 5', color='purple')\n",
    "\n",
    "ax.set_ylabel('Average Reward')\n",
    "ax.set_xlabel('Learning Rate')\n",
    "ax.set_title('Average reward over last 100 episodes for different learning rates')\n",
    "ax.set_xticks(x)\n",
    "ax.set_xticklabels(gridsearch_DQN_as_lists.keys())\n",
    "ax.legend()\n"
   ]
  },
  {
   "cell_type": "code",
   "execution_count": null,
   "metadata": {},
   "outputs": [],
   "source": [
    "# save the plot as pdf\n",
    "fig.savefig('./Plots/cartpole_DQN_gridsearch.pdf', bbox_inches='tight')"
   ]
  }
 ],
 "metadata": {
  "kernelspec": {
   "display_name": "rl",
   "language": "python",
   "name": "python3"
  },
  "language_info": {
   "codemirror_mode": {
    "name": "ipython",
    "version": 3
   },
   "file_extension": ".py",
   "mimetype": "text/x-python",
   "name": "python",
   "nbconvert_exporter": "python",
   "pygments_lexer": "ipython3",
   "version": "3.10.9"
  },
  "orig_nbformat": 4
 },
 "nbformat": 4,
 "nbformat_minor": 2
}
